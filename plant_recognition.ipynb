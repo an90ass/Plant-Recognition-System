
    {
      "cell_type": "code",
      "source": [
        "import tensorflow as tf\n",
        "import matplotlib.pyplot as plt\n",
        "import pandas as pd\n",
        "import seaborn as sns"
      ],
      "metadata": {
        "id": "Zr1wAPtEedX7"
      },
      "execution_count": 6,
      "outputs": []
    },
    {
      "cell_type": "code",
      "source": [],
      "metadata": {
        "id": "wVgaZJ4Gedbg"
      },
      "execution_count": null,
      "outputs": []
    }
  ]
}
