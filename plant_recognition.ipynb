{
  "nbformat": 4,
  "nbformat_minor": 0,
  "metadata": {
    "colab": {
      "provenance": [],
      "include_colab_link": true
    },
    "kernelspec": {
      "name": "python3",
      "display_name": "Python 3"
    },
    "language_info": {
      "name": "python"
    }
  },
  "cells": [
    {
      "cell_type": "markdown",
      "metadata": {
        "id": "view-in-github",
        "colab_type": "text"
      },
      "source": [
        "<a href=\"https://colab.research.google.com/github/an90ass/Plant-Recognition-System/blob/main/plant_recognition.ipynb\" target=\"_parent\"><img src=\"https://colab.research.google.com/assets/colab-badge.svg\" alt=\"Open In Colab\"/></a>"
      ]
    },
    {
      "cell_type": "code",
      "execution_count": null,
      "metadata": {
        "id": "av8oOVa0O0zj"
      },
      "outputs": [],
      "source": [
        "# prompt: 10 RANDOM NUMBERS\n",
        "\n",
        "import random\n",
        "for i in range(10):\n",
        "    print(random.randint(0, 100))\n"
      ]
    },
    {
      "cell_type": "markdown",
      "source": [
        "test"
      ],
      "metadata": {
        "id": "MWBr7fhBXY-8"
      }
    },
    {
      "cell_type": "code",
      "source": [
        "print(\"tst2\")"
      ],
      "metadata": {
        "id": "8X6vPYnKXipo",
        "colab": {
          "base_uri": "https://localhost:8080/"
        },
        "outputId": "5d6d8a60-7603-4c36-f107-97217c7f350a"
      },
      "execution_count": null,
      "outputs": [
        {
          "metadata": {
            "tags": null
          },
          "name": "stdout",
          "output_type": "stream",
          "text": [
            "tst2\n"
          ]
        }
      ]
    },
    {
      "cell_type": "code",
      "source": [
        "print(\"kkkkk\")\n",
        "print(\"Ahmet\")"
      ],
      "metadata": {
        "id": "448Z-JA1YKF1"
      },
      "execution_count": null,
      "outputs": []
    }
  ]
}